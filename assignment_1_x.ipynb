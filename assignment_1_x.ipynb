{
 "cells": [
  {
   "cell_type": "markdown",
   "metadata": {
    "id": "view-in-github",
    "colab_type": "text"
   },
   "source": [
    "<a href=\"https://colab.research.google.com/gist/Ash-Twin/6cf539a66f123a7f3f658c722668ce85/assignment1.ipynb\" target=\"_parent\"><img src=\"https://colab.research.google.com/assets/colab-badge.svg\" alt=\"Open In Colab\"/></a>"
   ],
   "id": "12be8fdf6090117a"
  },
  {
   "cell_type": "code",
   "source": [
    "# !pip install umap-learn[plot]\n",
    "# !pip install holoviews==1.12.7\n",
    "# !pip install -U ipykernel"
   ],
   "metadata": {
    "colab": {
     "base_uri": "https://localhost:8080/"
    },
    "id": "ihgicZkbLmfd",
    "outputId": "e2714fd4-ebf8-40c6-8865-0924f88810e8",
    "ExecuteTime": {
     "end_time": "2023-09-20T18:46:44.036448Z",
     "start_time": "2023-09-20T18:46:44.028800Z"
    }
   },
   "id": "ihgicZkbLmfd",
   "execution_count": 9,
   "outputs": []
  },
  {
   "cell_type": "code",
   "source": [
    "# Load the MNIST data\n",
    "# upload the data first\n",
    "import pandas as pd\n",
    "mount_root = './'\n",
    "train_in = pd.read_csv(mount_root+'train_in.csv', header=None)\n",
    "train_out = pd.read_csv(mount_root+'train_out.csv', header=None)\n",
    "test_in = pd.read_csv(mount_root+'test_in.csv', header=None)\n",
    "test_out = pd.read_csv(mount_root+'test_out.csv', header=None)\n",
    "X_train = train_in.to_numpy()\n",
    "y_train = train_out.to_numpy().flatten()\n",
    "X_test = test_in.to_numpy()\n",
    "y_test = test_out.to_numpy().flatten()"
   ],
   "metadata": {
    "id": "IM6uul3BN29W",
    "ExecuteTime": {
     "end_time": "2023-09-20T18:46:44.075771Z",
     "start_time": "2023-09-20T18:46:44.035388Z"
    }
   },
   "id": "IM6uul3BN29W",
   "execution_count": 10,
   "outputs": []
  },
  {
   "cell_type": "code",
   "execution_count": 11,
   "id": "5e3b5391-c6ab-423e-bb69-2cc82e8238cf",
   "metadata": {
    "colab": {
     "base_uri": "https://localhost:8080/"
    },
    "id": "5e3b5391-c6ab-423e-bb69-2cc82e8238cf",
    "outputId": "dae30eac-f82d-435e-f8b2-907da98f7694",
    "ExecuteTime": {
     "end_time": "2023-09-20T18:46:44.179888Z",
     "start_time": "2023-09-20T18:46:44.080250Z"
    }
   },
   "outputs": [
    {
     "name": "stdout",
     "output_type": "stream",
     "text": [
      "Accuracy: 80.40%\n"
     ]
    }
   ],
   "source": [
    "import numpy as np\n",
    "from scipy.spatial import distance\n",
    "from sklearn.metrics import accuracy_score\n",
    "\n",
    "# Calculate the centers for each digit class\n",
    "centers = []\n",
    "for digit in range(10):\n",
    "    digit_images = train_in[train_out[0] == digit]\n",
    "    center = digit_images.mean(axis=0)\n",
    "    centers.append(center)\n",
    "\n",
    "# Calculate distances between centers\n",
    "distances = np.zeros((10, 10))\n",
    "\n",
    "for i in range(10):\n",
    "    for j in range(i+1, 10):\n",
    "        dist = distance.euclidean(centers[i], centers[j])\n",
    "        distances[i, j] = dist\n",
    "        distances[j, i] = dist\n",
    "\n",
    "# Function to classify a new image based on the nearest center\n",
    "def classify_image(image):\n",
    "    min_distance = float('inf')\n",
    "    predicted_digit = None\n",
    "    for digit in range(10):\n",
    "        dist = distance.euclidean(image, centers[digit])\n",
    "        if dist < min_distance:\n",
    "            min_distance = dist\n",
    "            predicted_digit = digit\n",
    "    return predicted_digit\n",
    "\n",
    "# Classify test images and calculate accuracy\n",
    "correct_predictions = 0\n",
    "total_images = test_in.shape[0]\n",
    "for i in range(total_images):\n",
    "    test_image = test_in.iloc[i, :].values\n",
    "    true_label = test_out.iloc[i, 0]\n",
    "    predicted_label = classify_image(test_image)\n",
    "    if predicted_label == true_label:\n",
    "        correct_predictions += 1\n",
    "\n",
    "accuracy = correct_predictions / total_images\n",
    "print(f'Accuracy: {accuracy * 100:.2f}%')\n"
   ]
  },
  {
   "cell_type": "code",
   "execution_count": 43,
   "id": "e86effcb-13b8-475c-ab95-b392319cd66c",
   "metadata": {
    "colab": {
     "base_uri": "https://localhost:8080/",
     "height": 607
    },
    "id": "e86effcb-13b8-475c-ab95-b392319cd66c",
    "outputId": "4a451eca-3415-4299-d928-f87f60c1f08c",
    "ExecuteTime": {
     "end_time": "2023-09-20T19:00:04.736581Z",
     "start_time": "2023-09-20T19:00:04.577541Z"
    }
   },
   "outputs": [
    {
     "ename": "ImportError",
     "evalue": "Numba needs NumPy 1.24 or less",
     "output_type": "error",
     "traceback": [
      "\u001B[0;31m---------------------------------------------------------------------------\u001B[0m",
      "\u001B[0;31mImportError\u001B[0m                               Traceback (most recent call last)",
      "Cell \u001B[0;32mIn[43], line 6\u001B[0m\n\u001B[1;32m      4\u001B[0m \u001B[38;5;28;01mfrom\u001B[39;00m \u001B[38;5;21;01msklearn\u001B[39;00m\u001B[38;5;21;01m.\u001B[39;00m\u001B[38;5;21;01mdecomposition\u001B[39;00m \u001B[38;5;28;01mimport\u001B[39;00m PCA\n\u001B[1;32m      5\u001B[0m \u001B[38;5;28;01mfrom\u001B[39;00m \u001B[38;5;21;01msklearn\u001B[39;00m\u001B[38;5;21;01m.\u001B[39;00m\u001B[38;5;21;01mmanifold\u001B[39;00m \u001B[38;5;28;01mimport\u001B[39;00m TSNE\n\u001B[0;32m----> 6\u001B[0m \u001B[38;5;28;01mfrom\u001B[39;00m \u001B[38;5;21;01mumap\u001B[39;00m\u001B[38;5;21;01m.\u001B[39;00m\u001B[38;5;21;01mumap_\u001B[39;00m \u001B[38;5;28;01mimport\u001B[39;00m UMAP\n\u001B[1;32m      8\u001B[0m \u001B[38;5;66;03m# Combine input and output data\u001B[39;00m\n\u001B[1;32m      9\u001B[0m mnist_data \u001B[38;5;241m=\u001B[39m pd\u001B[38;5;241m.\u001B[39mconcat([train_in, train_out], axis\u001B[38;5;241m=\u001B[39m\u001B[38;5;241m1\u001B[39m)\n",
      "File \u001B[0;32m~/Library/Application Support/JetBrains/DataSpell2023.2/projects/workspace/venv/lib/python3.9/site-packages/umap/umap_.py:29\u001B[0m\n\u001B[1;32m     27\u001B[0m \u001B[38;5;28;01mfrom\u001B[39;00m \u001B[38;5;21;01mscipy\u001B[39;00m\u001B[38;5;21;01m.\u001B[39;00m\u001B[38;5;21;01msparse\u001B[39;00m \u001B[38;5;28;01mimport\u001B[39;00m tril \u001B[38;5;28;01mas\u001B[39;00m sparse_tril, triu \u001B[38;5;28;01mas\u001B[39;00m sparse_triu\n\u001B[1;32m     28\u001B[0m \u001B[38;5;28;01mimport\u001B[39;00m \u001B[38;5;21;01mscipy\u001B[39;00m\u001B[38;5;21;01m.\u001B[39;00m\u001B[38;5;21;01msparse\u001B[39;00m\u001B[38;5;21;01m.\u001B[39;00m\u001B[38;5;21;01mcsgraph\u001B[39;00m\n\u001B[0;32m---> 29\u001B[0m \u001B[38;5;28;01mimport\u001B[39;00m \u001B[38;5;21;01mnumba\u001B[39;00m\n\u001B[1;32m     31\u001B[0m \u001B[38;5;28;01mimport\u001B[39;00m \u001B[38;5;21;01mumap\u001B[39;00m\u001B[38;5;21;01m.\u001B[39;00m\u001B[38;5;21;01mdistances\u001B[39;00m \u001B[38;5;28;01mas\u001B[39;00m \u001B[38;5;21;01mdist\u001B[39;00m\n\u001B[1;32m     33\u001B[0m \u001B[38;5;28;01mimport\u001B[39;00m \u001B[38;5;21;01mumap\u001B[39;00m\u001B[38;5;21;01m.\u001B[39;00m\u001B[38;5;21;01msparse\u001B[39;00m \u001B[38;5;28;01mas\u001B[39;00m \u001B[38;5;21;01msparse\u001B[39;00m\n",
      "File \u001B[0;32m~/Library/Application Support/JetBrains/DataSpell2023.2/projects/workspace/venv/lib/python3.9/site-packages/numba/__init__.py:55\u001B[0m\n\u001B[1;32m     50\u001B[0m             msg \u001B[38;5;241m=\u001B[39m (\u001B[38;5;124m\"\u001B[39m\u001B[38;5;124mNumba requires SciPy version 1.0 or greater. Got SciPy \u001B[39m\u001B[38;5;124m\"\u001B[39m\n\u001B[1;32m     51\u001B[0m                    \u001B[38;5;124mf\u001B[39m\u001B[38;5;124m\"\u001B[39m\u001B[38;5;132;01m{\u001B[39;00mscipy\u001B[38;5;241m.\u001B[39m__version__\u001B[38;5;132;01m}\u001B[39;00m\u001B[38;5;124m.\u001B[39m\u001B[38;5;124m\"\u001B[39m)\n\u001B[1;32m     52\u001B[0m             \u001B[38;5;28;01mraise\u001B[39;00m \u001B[38;5;167;01mImportError\u001B[39;00m(msg)\n\u001B[0;32m---> 55\u001B[0m \u001B[43m_ensure_critical_deps\u001B[49m\u001B[43m(\u001B[49m\u001B[43m)\u001B[49m\n\u001B[1;32m     56\u001B[0m \u001B[38;5;66;03m# END DO NOT MOVE\u001B[39;00m\n\u001B[1;32m     57\u001B[0m \u001B[38;5;66;03m# ---------------------- WARNING WARNING WARNING ----------------------------\u001B[39;00m\n\u001B[1;32m     60\u001B[0m \u001B[38;5;28;01mfrom\u001B[39;00m \u001B[38;5;21;01m.\u001B[39;00m\u001B[38;5;21;01m_version\u001B[39;00m \u001B[38;5;28;01mimport\u001B[39;00m get_versions\n",
      "File \u001B[0;32m~/Library/Application Support/JetBrains/DataSpell2023.2/projects/workspace/venv/lib/python3.9/site-packages/numba/__init__.py:42\u001B[0m, in \u001B[0;36m_ensure_critical_deps\u001B[0;34m()\u001B[0m\n\u001B[1;32m     40\u001B[0m     \u001B[38;5;28;01mraise\u001B[39;00m \u001B[38;5;167;01mImportError\u001B[39;00m(msg)\n\u001B[1;32m     41\u001B[0m \u001B[38;5;28;01melif\u001B[39;00m numpy_version \u001B[38;5;241m>\u001B[39m (\u001B[38;5;241m1\u001B[39m, \u001B[38;5;241m24\u001B[39m):\n\u001B[0;32m---> 42\u001B[0m     \u001B[38;5;28;01mraise\u001B[39;00m \u001B[38;5;167;01mImportError\u001B[39;00m(\u001B[38;5;124m\"\u001B[39m\u001B[38;5;124mNumba needs NumPy 1.24 or less\u001B[39m\u001B[38;5;124m\"\u001B[39m)\n\u001B[1;32m     43\u001B[0m \u001B[38;5;28;01mtry\u001B[39;00m:\n\u001B[1;32m     44\u001B[0m     \u001B[38;5;28;01mimport\u001B[39;00m \u001B[38;5;21;01mscipy\u001B[39;00m\n",
      "\u001B[0;31mImportError\u001B[0m: Numba needs NumPy 1.24 or less"
     ]
    }
   ],
   "source": [
    "import numpy as np\n",
    "import pandas as pd\n",
    "import matplotlib.pyplot as plt\n",
    "from sklearn.decomposition import PCA\n",
    "from sklearn.manifold import TSNE\n",
    "from umap.umap_ import UMAP\n",
    "\n",
    "# Combine input and output data\n",
    "mnist_data = pd.concat([train_in, train_out], axis=1)\n",
    "\n",
    "# Extract labels and features\n",
    "labels = mnist_data.iloc[:, -1]\n",
    "features = mnist_data.iloc[:, :-1]\n",
    "\n",
    "# Perform PCA dimensionality reduction\n",
    "pca = PCA(n_components=2)\n",
    "pca_result = pca.fit_transform(features)\n",
    "\n",
    "# Perform t-SNE dimensionality reduction\n",
    "tsne = TSNE(n_components=2, perplexity=30, n_iter=300)\n",
    "tsne_result = tsne.fit_transform(features)\n",
    "\n",
    "# Perform umap\n",
    "ump = UMAP()\n",
    "ump_result = ump.fit_transform(features)\n",
    "# Plot the results\n",
    "plt.figure(figsize=(12, 6))\n",
    "plt.subplot(131)\n",
    "plt.scatter(pca_result[:, 0], pca_result[:, 1], c=labels, cmap=plt.colormaps['viridis'])\n",
    "plt.title('PCA')\n",
    "\n",
    "plt.subplot(132)\n",
    "plt.scatter(tsne_result[:, 0], tsne_result[:, 1], c=labels, cmap=plt.colormaps['viridis'])\n",
    "plt.title('t-SNE')\n",
    "\n",
    "plt.subplot(133)\n",
    "plt.scatter(ump_result[:, 0],ump_result[:, 1],c=labels,cmap=plt.colormaps['viridis'])\n",
    "plt.title('UMAP')\n",
    "\n",
    "plt.tight_layout()\n",
    "plt.show()\n"
   ]
  },
  {
   "cell_type": "code",
   "source": [
    "from sklearn.metrics import accuracy_score\n",
    "\n",
    "class NearestMeanClassifier:\n",
    "    def __init__(self):\n",
    "        self.class_means = None\n",
    "\n",
    "    def fit(self, X, y):\n",
    "        unique_classes = np.unique(y)\n",
    "        self.class_means = {}\n",
    "\n",
    "        for c in unique_classes:\n",
    "            class_mean = np.mean(X[y == c], axis=0)\n",
    "            self.class_means[c] = class_mean\n",
    "\n",
    "    def predict(self, X):\n",
    "        if self.class_means is None:\n",
    "            raise ValueError(\"Classifier not trained. Please use the 'fit' method first.\")\n",
    "\n",
    "        predictions = []\n",
    "        for sample in X:\n",
    "            distances = {c: np.linalg.norm(sample - mean) for c, mean in self.class_means.items()}\n",
    "            predicted_class = min(distances, key=distances.get)\n",
    "            predictions.append(predicted_class)\n",
    "\n",
    "        return np.array(predictions)\n",
    "\n",
    "classifier = NearestMeanClassifier()\n",
    "classifier.fit(X_train, y_train)\n",
    "\n",
    "# Make predictions on the test set\n",
    "nm_pred = classifier.predict(X_test)\n",
    "\n",
    "# Calculate and print the accuracy\n",
    "nm_accuracy = accuracy_score(y_test, nm_pred)\n",
    "print(f\"Accuracy of Nearest Mean Classifier: {nm_accuracy * 100:.2f}%\")"
   ],
   "metadata": {
    "colab": {
     "base_uri": "https://localhost:8080/"
    },
    "id": "45r3vdNCPscb",
    "outputId": "c49c7f66-97c5-41e5-9b6b-3d7a193c8e8c",
    "ExecuteTime": {
     "end_time": "2023-09-20T18:52:29.880617Z",
     "start_time": "2023-09-20T18:52:29.847449Z"
    }
   },
   "id": "45r3vdNCPscb",
   "execution_count": 31,
   "outputs": [
    {
     "name": "stdout",
     "output_type": "stream",
     "text": [
      "Accuracy of Nearest Mean Classifier: 80.40%\n"
     ]
    }
   ]
  },
  {
   "cell_type": "code",
   "execution_count": 30,
   "id": "8c4ced8f-9c34-4291-9103-bd81c7868ec9",
   "metadata": {
    "id": "8c4ced8f-9c34-4291-9103-bd81c7868ec9",
    "colab": {
     "base_uri": "https://localhost:8080/"
    },
    "outputId": "5b80ca41-d7a6-456e-ae9f-38e3ffa5626a",
    "ExecuteTime": {
     "end_time": "2023-09-20T18:52:26.483423Z",
     "start_time": "2023-09-20T18:52:26.446397Z"
    }
   },
   "outputs": [
    {
     "name": "stdout",
     "output_type": "stream",
     "text": [
      "Accuracy of KNN Classifier: 91.40%\n"
     ]
    }
   ],
   "source": [
    "from sklearn.neighbors import KNeighborsClassifier\n",
    "knn_classifier = KNeighborsClassifier(n_neighbors=3)\n",
    "knn_classifier.fit(train_in,train_out.values.ravel())\n",
    "knn_pred = knn_classifier.predict(test_in.values)\n",
    "knn_accuracy = accuracy_score(test_out,knn_pred)\n",
    "\n",
    "print(f\"Accuracy of KNN Classifier: {knn_accuracy * 100:.2f}%\")"
   ]
  },
  {
   "cell_type": "code",
   "source": [
    "from sklearn.metrics import confusion_matrix\n",
    "import seaborn as sns\n",
    "plt.figure(figsize=(20, 7))\n",
    "plt.subplot(121)\n",
    "plt.title(\"Nearest Mean\")\n",
    "nm_cfm = confusion_matrix(y_test,nm_pred)\n",
    "sns.heatmap(nm_cfm/np.sum(nm_cfm),annot=True)\n",
    "\n",
    "plt.subplot(122)\n",
    "plt.title(\"kNN\")\n",
    "knn_cfm = confusion_matrix(y_test,knn_pred)\n",
    "sns.heatmap(knn_cfm/np.sum(knn_cfm), annot=True, fmt=\".1f\", linewidth=.5, cmap=\"YlGnBu\")\n",
    "\n"
   ],
   "metadata": {
    "colab": {
     "base_uri": "https://localhost:8080/",
     "height": 385
    },
    "id": "2KZ7xjbMZepG",
    "outputId": "2a02e8d6-ca28-4455-9430-9c52b2c6eb10",
    "ExecuteTime": {
     "end_time": "2023-09-20T18:52:32.328741Z",
     "start_time": "2023-09-20T18:52:32.015444Z"
    }
   },
   "id": "2KZ7xjbMZepG",
   "execution_count": 32,
   "outputs": [
    {
     "data": {
      "text/plain": "<Axes: title={'center': 'kNN'}>"
     },
     "execution_count": 32,
     "metadata": {},
     "output_type": "execute_result"
    },
    {
     "data": {
      "text/plain": "<Figure size 2000x700 with 4 Axes>",
      "image/png": "[encoded data removed]"
     },
     "metadata": {},
     "output_type": "display_data"
    }
   ]
  },
  {
   "cell_type": "code",
   "source": [
    "def unit_step_func(x):\n",
    "  return np.where(x>0,1,0)\n",
    "\n",
    "class Perceptron:\n",
    "    def __init__(self, num_features, num_classes):\n",
    "        # Initialize weights and bias\n",
    "        self.weights = np.random.rand(num_features, num_classes)\n",
    "        self.bias = np.random.rand(num_classes)\n",
    "\n",
    "    def train(self, X_train, y_train, learning_rate, num_epochs):\n",
    "        for epoch in range(num_epochs):\n",
    "            for i in range(X_train.shape[0]):\n",
    "                # Forward pass\n",
    "                z = np.dot(X_train[i], self.weights) + self.bias\n",
    "                y_pred = np.argmax(z)\n",
    "\n",
    "                # Backpropagation\n",
    "                if y_pred != y_train[i]:\n",
    "                    self.weights[:, y_pred] -= learning_rate * X_train[i]\n",
    "                    self.bias[y_pred] -= learning_rate\n",
    "                    self.weights[:, y_train[i]] += learning_rate * X_train[i]\n",
    "                    self.bias[y_train[i]] += learning_rate\n",
    "\n",
    "    def predict(self, X_test):\n",
    "        num_samples = X_test.shape[0]\n",
    "        y_pred = np.zeros(num_samples, dtype=int)\n",
    "\n",
    "        for i in range(num_samples):\n",
    "            z = np.dot(X_test[i], self.weights) + self.bias\n",
    "            y_pred[i] = np.argmax(z)\n",
    "\n",
    "        return y_pred\n",
    "\n"
   ],
   "metadata": {
    "id": "oPGIU-x3fdOy",
    "ExecuteTime": {
     "end_time": "2023-09-20T18:53:20.715397Z",
     "start_time": "2023-09-20T18:53:20.710267Z"
    }
   },
   "id": "oPGIU-x3fdOy",
   "execution_count": 33,
   "outputs": []
  },
  {
   "cell_type": "code",
   "source": [
    "num_features = X_train.shape[1]  # Number of features\n",
    "num_classes = 10                # Number of classes\n",
    "learning_rate = 0.01\n",
    "num_epochs = 100\n",
    "\n",
    "perceptron = Perceptron(num_features, num_classes)\n",
    "\n",
    "# Train the perceptron on the training data\n",
    "perceptron.train(X_train, y_train, learning_rate, num_epochs)\n",
    "\n",
    "# Make predictions on the test data\n",
    "p_pred = perceptron.predict(X_test)\n",
    "\n",
    "# Evaluate accuracy using scikit-learn's accuracy_score\n",
    "p_accuracy = accuracy_score(y_test, p_pred)\n",
    "print(f\"Accuracy of Perceptron on Test Data: {p_accuracy * 100:.2f}%\")\n"
   ],
   "metadata": {
    "colab": {
     "base_uri": "https://localhost:8080/"
    },
    "id": "V6AF_DzijG2O",
    "outputId": "4e2d7acb-f693-4002-93fc-b380d8a9a631",
    "ExecuteTime": {
     "end_time": "2023-09-20T18:53:25.850627Z",
     "start_time": "2023-09-20T18:53:25.148159Z"
    }
   },
   "id": "V6AF_DzijG2O",
   "execution_count": 34,
   "outputs": [
    {
     "name": "stdout",
     "output_type": "stream",
     "text": [
      "Accuracy of Perceptron on Test Data: 84.90%\n"
     ]
    }
   ]
  },
  {
   "cell_type": "code",
   "execution_count": null,
   "outputs": [],
   "source": [],
   "metadata": {
    "collapsed": false
   },
   "id": "dc64054d46198224"
  }
 ],
 "metadata": {
  "kernelspec": {
   "display_name": "Python 3 (ipykernel)",
   "language": "python",
   "name": "python3"
  },
  "language_info": {
   "codemirror_mode": {
    "name": "ipython",
    "version": 3
   },
   "file_extension": ".py",
   "mimetype": "text/x-python",
   "name": "python",
   "nbconvert_exporter": "python",
   "pygments_lexer": "ipython3",
   "version": "3.9.6"
  },
  "colab": {
   "provenance": [],
   "include_colab_link": true
  }
 },
 "nbformat": 4,
 "nbformat_minor": 5
}
